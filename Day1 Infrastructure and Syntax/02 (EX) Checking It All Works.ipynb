{
 "cells": [
  {
   "cell_type": "markdown",
   "id": "70b43284",
   "metadata": {},
   "source": [
    "### Check Python is Installed"
   ]
  },
  {
   "cell_type": "code",
   "execution_count": 1,
   "id": "c5444475",
   "metadata": {},
   "outputs": [
    {
     "name": "stdout",
     "output_type": "stream",
     "text": [
      "Python is installed\n"
     ]
    }
   ],
   "source": [
    "print(\"Python is installed\")"
   ]
  },
  {
   "cell_type": "markdown",
   "id": "6cefdd1b",
   "metadata": {},
   "source": [
    "### Check Python Packages are Installed"
   ]
  },
  {
   "cell_type": "code",
   "execution_count": 4,
   "id": "f20bbb96",
   "metadata": {},
   "outputs": [],
   "source": [
    "import numpy\n",
    "import matplotlib\n",
    "import scipy\n",
    "import seaborn\n",
    "import pingouin\n"
   ]
  },
  {
   "cell_type": "markdown",
   "id": "d23fae8a",
   "metadata": {},
   "source": [
    "1 + 2\n"
   ]
  },
  {
   "cell_type": "code",
   "execution_count": 6,
   "id": "284e7cfe",
   "metadata": {},
   "outputs": [
    {
     "data": {
      "text/plain": [
       "2"
      ]
     },
     "execution_count": 6,
     "metadata": {},
     "output_type": "execute_result"
    }
   ],
   "source": [
    "x = 2\n",
    "x"
   ]
  },
  {
   "cell_type": "code",
   "execution_count": 5,
   "id": "821fc201",
   "metadata": {},
   "outputs": [
    {
     "data": {
      "text/plain": [
       "3"
      ]
     },
     "execution_count": 5,
     "metadata": {},
     "output_type": "execute_result"
    }
   ],
   "source": [
    "1 + 2\n"
   ]
  }
 ],
 "metadata": {
  "kernelspec": {
   "display_name": "default",
   "language": "python",
   "name": "python3"
  },
  "language_info": {
   "codemirror_mode": {
    "name": "ipython",
    "version": 3
   },
   "file_extension": ".py",
   "mimetype": "text/x-python",
   "name": "python",
   "nbconvert_exporter": "python",
   "pygments_lexer": "ipython3",
   "version": "3.13.3"
  }
 },
 "nbformat": 4,
 "nbformat_minor": 5
}
