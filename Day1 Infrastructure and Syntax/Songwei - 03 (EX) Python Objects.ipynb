{
 "cells": [
  {
   "cell_type": "markdown",
   "id": "3522c742",
   "metadata": {},
   "source": [
    "# Object-Oriented Python: Types, Objects, and Methods\n",
    "\n",
    "Python is an \"Object-Oriented\" Programming language.  This means that data is transformed into code, an approach that makes Python very flexible.  \n",
    "\n",
    "In this unit, we'll learn to think about data in python in terms of \"types\", which will open the doors for using a wide variety of tools in Python and make it easier to understand how to fix our code when Python raises an error message.\n",
    "\n"
   ]
  },
  {
   "cell_type": "markdown",
   "id": "95e1e144",
   "metadata": {},
   "source": [
    "\n",
    "## Literal Data Syntax in Python\n",
    "\n",
    "Data in Python can take the form of many different **types**.  The most basic are:\n",
    "\n",
    "#### Core Types\n",
    "\n",
    "| Python Core Type | Example | Description |\n",
    "| :-- | :-- | :-- |\n",
    "| **`int`** | `3` | whole numbers |\n",
    "| **`float`** | `3.1` | decimal numbers, plus nan, inf and -inf |\n",
    "| **`bool`** | `True` | the logical values, can only be True or False |\n",
    "| **`str`** | `\"hi\"` | text data |\n",
    "| **`bytes`** | `b\"hi123\\x03\"` | a sequence of generic computer data |\n",
    "| **`NoneType`** | `None` | a placeholder, usually for missing values |\n",
    "\n",
    "\n",
    "#### Constructing new objects of a given type\n",
    "\n",
    "| Code | Description |\n",
    "| :-- | :-- |\n",
    "| **`x = 3`** | Assign an object to a variable \"name\" |\n",
    "| **`type(x)`** | Get the type of an object |\n",
    "| **`str(x)`** | Construct a new `str` from an existing object |\n",
    "\n"
   ]
  },
  {
   "cell_type": "markdown",
   "id": "2ed078be",
   "metadata": {},
   "source": [
    "**Exercises**"
   ]
  },
  {
   "cell_type": "markdown",
   "id": "92ab4ad6",
   "metadata": {},
   "source": [
    "**Example**: What type is `data`?"
   ]
  },
  {
   "cell_type": "code",
   "execution_count": 3,
   "id": "fb635c83",
   "metadata": {},
   "outputs": [],
   "source": [
    "data = 10"
   ]
  },
  {
   "cell_type": "code",
   "execution_count": 5,
   "id": "598e1c93",
   "metadata": {},
   "outputs": [
    {
     "data": {
      "text/plain": [
       "int"
      ]
     },
     "execution_count": 5,
     "metadata": {},
     "output_type": "execute_result"
    }
   ],
   "source": [
    "type(data)"
   ]
  },
  {
   "cell_type": "markdown",
   "id": "fa98dd7b",
   "metadata": {},
   "source": [
    "Construct a `float` object from `data`."
   ]
  },
  {
   "cell_type": "code",
   "execution_count": 6,
   "id": "ebe17c6a",
   "metadata": {},
   "outputs": [
    {
     "data": {
      "text/plain": [
       "10.0"
      ]
     },
     "execution_count": 6,
     "metadata": {},
     "output_type": "execute_result"
    }
   ],
   "source": [
    "float(data)"
   ]
  },
  {
   "cell_type": "markdown",
   "id": "a417b6a0",
   "metadata": {},
   "source": [
    "**Ex**: What type is `data`?"
   ]
  },
  {
   "cell_type": "code",
   "execution_count": 7,
   "id": "5ab364fc",
   "metadata": {},
   "outputs": [],
   "source": [
    "data = 10."
   ]
  },
  {
   "cell_type": "code",
   "execution_count": 8,
   "id": "513acb9d",
   "metadata": {},
   "outputs": [
    {
     "data": {
      "text/plain": [
       "float"
      ]
     },
     "execution_count": 8,
     "metadata": {},
     "output_type": "execute_result"
    }
   ],
   "source": [
    "type(data)"
   ]
  },
  {
   "cell_type": "markdown",
   "id": "46c64244",
   "metadata": {},
   "source": []
  },
  {
   "cell_type": "code",
   "execution_count": null,
   "id": "ed936cf8",
   "metadata": {},
   "outputs": [],
   "source": []
  },
  {
   "cell_type": "markdown",
   "id": "23e87980",
   "metadata": {},
   "source": [
    "Construct a `str` object from `data`."
   ]
  },
  {
   "cell_type": "code",
   "execution_count": 15,
   "id": "8792079e",
   "metadata": {},
   "outputs": [
    {
     "data": {
      "text/plain": [
       "str"
      ]
     },
     "execution_count": 15,
     "metadata": {},
     "output_type": "execute_result"
    }
   ],
   "source": [
    "\n",
    "data=str(data)\n",
    "type(data)"
   ]
  },
  {
   "cell_type": "markdown",
   "id": "e10ef30d",
   "metadata": {},
   "source": [
    "**Ex**: What type is `data`?"
   ]
  },
  {
   "cell_type": "code",
   "execution_count": 16,
   "id": "bff572e4",
   "metadata": {},
   "outputs": [],
   "source": [
    "data = False"
   ]
  },
  {
   "cell_type": "code",
   "execution_count": 17,
   "id": "c8bf31ff",
   "metadata": {},
   "outputs": [
    {
     "data": {
      "text/plain": [
       "bool"
      ]
     },
     "execution_count": 17,
     "metadata": {},
     "output_type": "execute_result"
    }
   ],
   "source": [
    "type(data)"
   ]
  },
  {
   "cell_type": "markdown",
   "id": "f12a034a",
   "metadata": {},
   "source": [
    "Construct an `int` type from `data`."
   ]
  },
  {
   "cell_type": "code",
   "execution_count": 19,
   "id": "62a71575",
   "metadata": {},
   "outputs": [
    {
     "data": {
      "text/plain": [
       "int"
      ]
     },
     "execution_count": 19,
     "metadata": {},
     "output_type": "execute_result"
    }
   ],
   "source": [
    "data=int(data)\n",
    "type(data)"
   ]
  },
  {
   "cell_type": "code",
   "execution_count": 20,
   "id": "481b96fd",
   "metadata": {},
   "outputs": [
    {
     "data": {
      "text/plain": [
       "0"
      ]
     },
     "execution_count": 20,
     "metadata": {},
     "output_type": "execute_result"
    }
   ],
   "source": [
    "data"
   ]
  },
  {
   "cell_type": "code",
   "execution_count": null,
   "id": "84ec483d",
   "metadata": {},
   "outputs": [],
   "source": []
  },
  {
   "cell_type": "markdown",
   "id": "25efabdb",
   "metadata": {},
   "source": [
    "**Ex**: What type is `data`?"
   ]
  },
  {
   "cell_type": "code",
   "execution_count": 21,
   "id": "7d69581d",
   "metadata": {},
   "outputs": [],
   "source": [
    "data = None"
   ]
  },
  {
   "cell_type": "code",
   "execution_count": 22,
   "id": "2c0ddd89",
   "metadata": {},
   "outputs": [
    {
     "data": {
      "text/plain": [
       "NoneType"
      ]
     },
     "execution_count": 22,
     "metadata": {},
     "output_type": "execute_result"
    }
   ],
   "source": [
    "type(data)"
   ]
  },
  {
   "cell_type": "markdown",
   "id": "2f4fce60",
   "metadata": {},
   "source": [
    "Construct a `str` type from `data`."
   ]
  },
  {
   "cell_type": "code",
   "execution_count": 23,
   "id": "9720e141",
   "metadata": {},
   "outputs": [
    {
     "data": {
      "text/plain": [
       "'None'"
      ]
     },
     "execution_count": 23,
     "metadata": {},
     "output_type": "execute_result"
    }
   ],
   "source": [
    "str(data)"
   ]
  },
  {
   "cell_type": "markdown",
   "id": "10b1dca3",
   "metadata": {},
   "source": [
    "**Ex**: What type is `data`?"
   ]
  },
  {
   "cell_type": "code",
   "execution_count": 2,
   "id": "841905d3",
   "metadata": {},
   "outputs": [
    {
     "data": {
      "text/plain": [
       "float"
      ]
     },
     "execution_count": 2,
     "metadata": {},
     "output_type": "execute_result"
    }
   ],
   "source": [
    "data = 3.99\n",
    "type(data)"
   ]
  },
  {
   "cell_type": "markdown",
   "id": "831af51f",
   "metadata": {},
   "source": [
    "Construct an `int` type from `data` using either the `int()` function or the `round()` function. What's different between the two results?"
   ]
  },
  {
   "cell_type": "code",
   "execution_count": 3,
   "id": "ed45b573",
   "metadata": {},
   "outputs": [
    {
     "data": {
      "text/plain": [
       "4"
      ]
     },
     "execution_count": 3,
     "metadata": {},
     "output_type": "execute_result"
    }
   ],
   "source": [
    "round(data)"
   ]
  },
  {
   "cell_type": "code",
   "execution_count": 4,
   "id": "786f3b08",
   "metadata": {},
   "outputs": [
    {
     "data": {
      "text/plain": [
       "3"
      ]
     },
     "execution_count": 4,
     "metadata": {},
     "output_type": "execute_result"
    }
   ],
   "source": [
    "int(data)"
   ]
  },
  {
   "cell_type": "markdown",
   "id": "57eaacd6",
   "metadata": {},
   "source": [
    "**Ex**: What type is `data`?"
   ]
  },
  {
   "cell_type": "code",
   "execution_count": 5,
   "id": "c82c8b0e",
   "metadata": {},
   "outputs": [],
   "source": [
    "data = \"5.200000\""
   ]
  },
  {
   "cell_type": "code",
   "execution_count": 6,
   "id": "401468cc",
   "metadata": {},
   "outputs": [
    {
     "data": {
      "text/plain": [
       "str"
      ]
     },
     "execution_count": 6,
     "metadata": {},
     "output_type": "execute_result"
    }
   ],
   "source": [
    "type(data)\n"
   ]
  },
  {
   "cell_type": "markdown",
   "id": "b108dceb",
   "metadata": {},
   "source": [
    "Construct a `float` type from `data`.  What's different about it?"
   ]
  },
  {
   "cell_type": "code",
   "execution_count": 9,
   "id": "b008f433",
   "metadata": {},
   "outputs": [
    {
     "data": {
      "text/plain": [
       "5.2"
      ]
     },
     "execution_count": 9,
     "metadata": {},
     "output_type": "execute_result"
    }
   ],
   "source": [
    "data2=float(data)\n",
    "type(data2)\n",
    "data2"
   ]
  },
  {
   "cell_type": "markdown",
   "id": "b38a579d",
   "metadata": {},
   "source": [
    "## \"Dunder\" Method Syntax in Python: Code and Data Aren't Seperate\n",
    "\n",
    "Types in Python contain functions as well as data; when functions and data are combined, it's called an \"object\".  Everything in Python is an object, which means that all data contains some useful functions that can be used.  A function inside an object is called a **\"method\"**\n",
    "\n",
    "Methods in Python fall in two categories:**\"Dunder\" Methods:** (meant to be used indirectly, usually through operators) and **\"Normal\"** methods (meant to be used directly as a function call)\n",
    "  \n",
    "\n",
    "#### Example Dunder Methods\n",
    "\n",
    "These methods are named with double-underscores in the beginning and end.  They aren't meant to be used directly, but rather tell Python which method to call when an operator is used.  (For example, the `__add__` method is called when the `+` operator is in the code). \n",
    "\n",
    "| Method | Operation it supports |\n",
    "| :-- | :-- |\n",
    "| **`__add__()`** | `+` |\n",
    "| **`__sub__()`** | `-` |\n",
    "| **`__mul__()`** | `*` |\n",
    "\n",
    "For the interested, a full list can be found [here](https://www.pythonmorsels.com/every-dunder-method/).\n",
    "\n",
    "\n",
    "#### Getting Method Names\n",
    "| Code | Description |\n",
    "| :-- | :-- |\n",
    "| **`dir(x)`** | Get a list of method names from object `x`. |\n",
    "| **`\"__int__\"`** in dir(int) | Check if a method name is on a type. |\n",
    "| **`help(x.to_bytes)`** | Get the help text for the `to_bytes()` method on `x` |\n",
    "| **`x.to_bytes?`** | Get the help text for the `to_bytes()` method on `x` "
   ]
  },
  {
   "cell_type": "markdown",
   "id": "f60af36b",
   "metadata": {},
   "source": [
    "**Exercises**: We'll look at the methods in some core types in python to get an expectation around what operations are supported by that type."
   ]
  },
  {
   "cell_type": "markdown",
   "id": "7c84c5c9",
   "metadata": {},
   "source": [
    "Print the list of methods that integers have. Do more methods start with a double underscore (dunder methods) or start with a letter (normal methods)?"
   ]
  },
  {
   "cell_type": "code",
   "execution_count": 10,
   "id": "46e4247d",
   "metadata": {},
   "outputs": [
    {
     "data": {
      "text/plain": [
       "['__abs__',\n",
       " '__add__',\n",
       " '__and__',\n",
       " '__bool__',\n",
       " '__ceil__',\n",
       " '__class__',\n",
       " '__delattr__',\n",
       " '__dir__',\n",
       " '__divmod__',\n",
       " '__doc__',\n",
       " '__eq__',\n",
       " '__float__',\n",
       " '__floor__',\n",
       " '__floordiv__',\n",
       " '__format__',\n",
       " '__ge__',\n",
       " '__getattribute__',\n",
       " '__getnewargs__',\n",
       " '__getstate__',\n",
       " '__gt__',\n",
       " '__hash__',\n",
       " '__index__',\n",
       " '__init__',\n",
       " '__init_subclass__',\n",
       " '__int__',\n",
       " '__invert__',\n",
       " '__le__',\n",
       " '__lshift__',\n",
       " '__lt__',\n",
       " '__mod__',\n",
       " '__mul__',\n",
       " '__ne__',\n",
       " '__neg__',\n",
       " '__new__',\n",
       " '__or__',\n",
       " '__pos__',\n",
       " '__pow__',\n",
       " '__radd__',\n",
       " '__rand__',\n",
       " '__rdivmod__',\n",
       " '__reduce__',\n",
       " '__reduce_ex__',\n",
       " '__repr__',\n",
       " '__rfloordiv__',\n",
       " '__rlshift__',\n",
       " '__rmod__',\n",
       " '__rmul__',\n",
       " '__ror__',\n",
       " '__round__',\n",
       " '__rpow__',\n",
       " '__rrshift__',\n",
       " '__rshift__',\n",
       " '__rsub__',\n",
       " '__rtruediv__',\n",
       " '__rxor__',\n",
       " '__setattr__',\n",
       " '__sizeof__',\n",
       " '__str__',\n",
       " '__sub__',\n",
       " '__subclasshook__',\n",
       " '__truediv__',\n",
       " '__trunc__',\n",
       " '__xor__',\n",
       " 'as_integer_ratio',\n",
       " 'bit_count',\n",
       " 'bit_length',\n",
       " 'conjugate',\n",
       " 'denominator',\n",
       " 'from_bytes',\n",
       " 'imag',\n",
       " 'is_integer',\n",
       " 'numerator',\n",
       " 'real',\n",
       " 'to_bytes']"
      ]
     },
     "execution_count": 10,
     "metadata": {},
     "output_type": "execute_result"
    }
   ],
   "source": [
    "dir(int)"
   ]
  },
  {
   "cell_type": "markdown",
   "id": "11a17eb5",
   "metadata": {},
   "source": [
    "Print the list of methods that `data` has.  How many do not start with an underscore?"
   ]
  },
  {
   "cell_type": "code",
   "execution_count": null,
   "id": "ef84502f",
   "metadata": {},
   "outputs": [
    {
     "data": {
      "text/plain": [
       "'5.2000005.200000'"
      ]
     },
     "execution_count": 12,
     "metadata": {},
     "output_type": "execute_result"
    }
   ],
   "source": [
    "dir(data)\n",
    "data + data"
   ]
  },
  {
   "cell_type": "code",
   "execution_count": 13,
   "id": "1a76648e",
   "metadata": {},
   "outputs": [
    {
     "ename": "TypeError",
     "evalue": "can only concatenate str (not \"float\") to str",
     "output_type": "error",
     "traceback": [
      "\u001b[31m---------------------------------------------------------------------------\u001b[39m",
      "\u001b[31mTypeError\u001b[39m                                 Traceback (most recent call last)",
      "\u001b[36mCell\u001b[39m\u001b[36m \u001b[39m\u001b[32mIn[13]\u001b[39m\u001b[32m, line 1\u001b[39m\n\u001b[32m----> \u001b[39m\u001b[32m1\u001b[39m \u001b[43mdata\u001b[49m\u001b[43m+\u001b[49m\u001b[43mdata2\u001b[49m\n",
      "\u001b[31mTypeError\u001b[39m: can only concatenate str (not \"float\") to str"
     ]
    }
   ],
   "source": [
    "data+data2"
   ]
  },
  {
   "cell_type": "markdown",
   "id": "c067bfb3",
   "metadata": {},
   "source": [
    "Looking at the list of methods in `dir(int)`, would you assume that you use the addition operator with integers?  "
   ]
  },
  {
   "cell_type": "code",
   "execution_count": 3,
   "id": "2c042dab",
   "metadata": {},
   "outputs": [
    {
     "data": {
      "text/plain": [
       "['__abs__',\n",
       " '__add__',\n",
       " '__and__',\n",
       " '__bool__',\n",
       " '__ceil__',\n",
       " '__class__',\n",
       " '__delattr__',\n",
       " '__dir__',\n",
       " '__divmod__',\n",
       " '__doc__',\n",
       " '__eq__',\n",
       " '__float__',\n",
       " '__floor__',\n",
       " '__floordiv__',\n",
       " '__format__',\n",
       " '__ge__',\n",
       " '__getattribute__',\n",
       " '__getnewargs__',\n",
       " '__getstate__',\n",
       " '__gt__',\n",
       " '__hash__',\n",
       " '__index__',\n",
       " '__init__',\n",
       " '__init_subclass__',\n",
       " '__int__',\n",
       " '__invert__',\n",
       " '__le__',\n",
       " '__lshift__',\n",
       " '__lt__',\n",
       " '__mod__',\n",
       " '__mul__',\n",
       " '__ne__',\n",
       " '__neg__',\n",
       " '__new__',\n",
       " '__or__',\n",
       " '__pos__',\n",
       " '__pow__',\n",
       " '__radd__',\n",
       " '__rand__',\n",
       " '__rdivmod__',\n",
       " '__reduce__',\n",
       " '__reduce_ex__',\n",
       " '__repr__',\n",
       " '__rfloordiv__',\n",
       " '__rlshift__',\n",
       " '__rmod__',\n",
       " '__rmul__',\n",
       " '__ror__',\n",
       " '__round__',\n",
       " '__rpow__',\n",
       " '__rrshift__',\n",
       " '__rshift__',\n",
       " '__rsub__',\n",
       " '__rtruediv__',\n",
       " '__rxor__',\n",
       " '__setattr__',\n",
       " '__sizeof__',\n",
       " '__str__',\n",
       " '__sub__',\n",
       " '__subclasshook__',\n",
       " '__truediv__',\n",
       " '__trunc__',\n",
       " '__xor__',\n",
       " 'as_integer_ratio',\n",
       " 'bit_count',\n",
       " 'bit_length',\n",
       " 'conjugate',\n",
       " 'denominator',\n",
       " 'from_bytes',\n",
       " 'imag',\n",
       " 'is_integer',\n",
       " 'numerator',\n",
       " 'real',\n",
       " 'to_bytes']"
      ]
     },
     "execution_count": 3,
     "metadata": {},
     "output_type": "execute_result"
    }
   ],
   "source": [
    "dir(int)"
   ]
  },
  {
   "cell_type": "markdown",
   "id": "276ff6cd",
   "metadata": {},
   "source": [
    "Try it (`3 + 2`)"
   ]
  },
  {
   "cell_type": "code",
   "execution_count": 14,
   "id": "401c961e",
   "metadata": {},
   "outputs": [
    {
     "data": {
      "text/plain": [
       "5"
      ]
     },
     "execution_count": 14,
     "metadata": {},
     "output_type": "execute_result"
    }
   ],
   "source": [
    "3+2"
   ]
  },
  {
   "cell_type": "markdown",
   "id": "249f83b4",
   "metadata": {},
   "source": [
    "Try it using the method directly (`(3).__add__(2)`):"
   ]
  },
  {
   "cell_type": "code",
   "execution_count": 15,
   "id": "31aee844",
   "metadata": {},
   "outputs": [
    {
     "data": {
      "text/plain": [
       "5"
      ]
     },
     "execution_count": 15,
     "metadata": {},
     "output_type": "execute_result"
    }
   ],
   "source": [
    "(3).__add__(2)"
   ]
  },
  {
   "cell_type": "markdown",
   "id": "b9a35b7b",
   "metadata": {},
   "source": [
    "Looking at the list of methods in `dir(None)`, would you assume that you use the addition operator with None?"
   ]
  },
  {
   "cell_type": "code",
   "execution_count": 16,
   "id": "8997ac90",
   "metadata": {},
   "outputs": [
    {
     "data": {
      "text/plain": [
       "['__bool__',\n",
       " '__class__',\n",
       " '__delattr__',\n",
       " '__dir__',\n",
       " '__doc__',\n",
       " '__eq__',\n",
       " '__format__',\n",
       " '__ge__',\n",
       " '__getattribute__',\n",
       " '__getstate__',\n",
       " '__gt__',\n",
       " '__hash__',\n",
       " '__init__',\n",
       " '__init_subclass__',\n",
       " '__le__',\n",
       " '__lt__',\n",
       " '__ne__',\n",
       " '__new__',\n",
       " '__reduce__',\n",
       " '__reduce_ex__',\n",
       " '__repr__',\n",
       " '__setattr__',\n",
       " '__sizeof__',\n",
       " '__str__',\n",
       " '__subclasshook__']"
      ]
     },
     "execution_count": 16,
     "metadata": {},
     "output_type": "execute_result"
    }
   ],
   "source": [
    "dir(None)"
   ]
  },
  {
   "cell_type": "markdown",
   "id": "300ef7f0",
   "metadata": {},
   "source": [
    "Try it (`None + None`)  What type of error do you get?"
   ]
  },
  {
   "cell_type": "code",
   "execution_count": 17,
   "id": "5bebc74c",
   "metadata": {},
   "outputs": [
    {
     "ename": "TypeError",
     "evalue": "unsupported operand type(s) for +: 'NoneType' and 'NoneType'",
     "output_type": "error",
     "traceback": [
      "\u001b[31m---------------------------------------------------------------------------\u001b[39m",
      "\u001b[31mTypeError\u001b[39m                                 Traceback (most recent call last)",
      "\u001b[36mCell\u001b[39m\u001b[36m \u001b[39m\u001b[32mIn[17]\u001b[39m\u001b[32m, line 1\u001b[39m\n\u001b[32m----> \u001b[39m\u001b[32m1\u001b[39m \u001b[38;5;28;43;01mNone\u001b[39;49;00m\u001b[43m \u001b[49m\u001b[43m+\u001b[49m\u001b[43m \u001b[49m\u001b[38;5;28;43;01mNone\u001b[39;49;00m\n",
      "\u001b[31mTypeError\u001b[39m: unsupported operand type(s) for +: 'NoneType' and 'NoneType'"
     ]
    }
   ],
   "source": [
    "None + None"
   ]
  },
  {
   "cell_type": "markdown",
   "id": "ee9a0ebf",
   "metadata": {},
   "source": [
    "Looking at the list of methods in `dir(str)`, would you assume that you use the addition operator with strings?"
   ]
  },
  {
   "cell_type": "code",
   "execution_count": null,
   "id": "a49bf5e2",
   "metadata": {},
   "outputs": [
    {
     "data": {
      "text/plain": [
       "['__add__',\n",
       " '__class__',\n",
       " '__contains__',\n",
       " '__delattr__',\n",
       " '__dir__',\n",
       " '__doc__',\n",
       " '__eq__',\n",
       " '__format__',\n",
       " '__ge__',\n",
       " '__getattribute__',\n",
       " '__getitem__',\n",
       " '__getnewargs__',\n",
       " '__getstate__',\n",
       " '__gt__',\n",
       " '__hash__',\n",
       " '__init__',\n",
       " '__init_subclass__',\n",
       " '__iter__',\n",
       " '__le__',\n",
       " '__len__',\n",
       " '__lt__',\n",
       " '__mod__',\n",
       " '__mul__',\n",
       " '__ne__',\n",
       " '__new__',\n",
       " '__reduce__',\n",
       " '__reduce_ex__',\n",
       " '__repr__',\n",
       " '__rmod__',\n",
       " '__rmul__',\n",
       " '__setattr__',\n",
       " '__sizeof__',\n",
       " '__str__',\n",
       " '__subclasshook__',\n",
       " 'capitalize',\n",
       " 'casefold',\n",
       " 'center',\n",
       " 'count',\n",
       " 'encode',\n",
       " 'endswith',\n",
       " 'expandtabs',\n",
       " 'find',\n",
       " 'format',\n",
       " 'format_map',\n",
       " 'index',\n",
       " 'isalnum',\n",
       " 'isalpha',\n",
       " 'isascii',\n",
       " 'isdecimal',\n",
       " 'isdigit',\n",
       " 'isidentifier',\n",
       " 'islower',\n",
       " 'isnumeric',\n",
       " 'isprintable',\n",
       " 'isspace',\n",
       " 'istitle',\n",
       " 'isupper',\n",
       " 'join',\n",
       " 'ljust',\n",
       " 'lower',\n",
       " 'lstrip',\n",
       " 'maketrans',\n",
       " 'partition',\n",
       " 'removeprefix',\n",
       " 'removesuffix',\n",
       " 'replace',\n",
       " 'rfind',\n",
       " 'rindex',\n",
       " 'rjust',\n",
       " 'rpartition',\n",
       " 'rsplit',\n",
       " 'rstrip',\n",
       " 'split',\n",
       " 'splitlines',\n",
       " 'startswith',\n",
       " 'strip',\n",
       " 'swapcase',\n",
       " 'title',\n",
       " 'translate',\n",
       " 'upper',\n",
       " 'zfill']"
      ]
     },
     "metadata": {},
     "output_type": "display_data"
    }
   ],
   "source": [
    "dir(str)"
   ]
  },
  {
   "cell_type": "markdown",
   "id": "37d48c0a",
   "metadata": {},
   "source": [
    "Try it: `'Hello' + 'World'`"
   ]
  },
  {
   "cell_type": "code",
   "execution_count": 18,
   "id": "eb5efbba",
   "metadata": {},
   "outputs": [
    {
     "data": {
      "text/plain": [
       "'HelloWorld'"
      ]
     },
     "execution_count": 18,
     "metadata": {},
     "output_type": "execute_result"
    }
   ],
   "source": [
    "'Hello' + 'World'"
   ]
  },
  {
   "cell_type": "markdown",
   "id": "ebc859de",
   "metadata": {},
   "source": [
    "Try it using the method directly (`'Hello'.__add__('World')`):"
   ]
  },
  {
   "cell_type": "code",
   "execution_count": 19,
   "id": "608c61cf",
   "metadata": {},
   "outputs": [
    {
     "data": {
      "text/plain": [
       "'HelloWorld'"
      ]
     },
     "execution_count": 19,
     "metadata": {},
     "output_type": "execute_result"
    }
   ],
   "source": [
    "'Hello'.__add__('World')"
   ]
  },
  {
   "cell_type": "code",
   "execution_count": null,
   "id": "f31526e8",
   "metadata": {},
   "outputs": [],
   "source": []
  },
  {
   "cell_type": "markdown",
   "id": "da43f0a0",
   "metadata": {},
   "source": [
    "## Built-In String Operations, Functions, and Methods\n",
    "\n",
    "Modify the DNA sequences below in a single line of code to match what's asked for.  Functions and methods that may be used are:\n",
    "\n",
    "### Operations\n",
    "\n",
    "The same operations we've used on numbers and lists work on strings!\n",
    "\n",
    "  - `'GTC' * 3  # Repeats a string N times`\n",
    "  - `'GTC' + 'GTC'  # Concatenates two strings`\n",
    "  - `'GTC'[0]`  \n",
    "  - `'GTC'[-1]`\n",
    "  - `'GTC'[1:]`\n",
    "  - `'GTC'[:-1]`\n",
    "  - `'GTC'[::-1]   # Reverses the sequence`\n",
    "  - `'GTC' == 'GTC'  # If they are the same, then True`\n",
    "  - `'GTC' != 'GTC'  # If they are different, then True`\n",
    "\n",
    "\n",
    "### Built-In Functions for Strings and their Methods\n",
    "\n",
    "Strings also contain their own functions.  Functions inside types are called **\"Methods\"**, and they are a way to automatically put the string into the function.\n",
    "\n",
    "| Function | Method Syntax Equivalent |\n",
    "| :--           |  :---- |\n",
    "| `str.count('GTC', 'A')` |`'GTC'.count('A')` |\n",
    "| `str.upper('GtC')` | `'GtC'.upper()` |\n",
    "| `str.lower('GTc')` |  `'GTc'.lower()` |\n",
    "| `str.isdigit('GTC')` |`'GTC'.isdigit()` |\n",
    "| `str.index('GTC', 'T')` | `'GTC'.index('T')` |\n",
    "| `str.replace('GTC', 'G', 'C')` |  `'GTC'.replace('G', 'C')` |\n",
    "|  `str.split('GTC-CCA', '-')` | `'GTC-CCA'.split('-')` |\n",
    "| `len('GTC')` |  -None- |\n"
   ]
  },
  {
   "cell_type": "markdown",
   "id": "538adae5",
   "metadata": {},
   "source": [
    "**Exercises**"
   ]
  },
  {
   "cell_type": "markdown",
   "id": "66b01074",
   "metadata": {},
   "source": [
    "**Example**: Count the Number of \"G\" in the following sequence:"
   ]
  },
  {
   "cell_type": "code",
   "execution_count": 35,
   "id": "fe944a0a",
   "metadata": {},
   "outputs": [
    {
     "data": {
      "text/plain": [
       "6"
      ]
     },
     "execution_count": 35,
     "metadata": {},
     "output_type": "execute_result"
    }
   ],
   "source": [
    "seq = \"GTGTCAGTCCCCATGAATCGATAG\"\n",
    "seq.count('G')"
   ]
  },
  {
   "cell_type": "markdown",
   "id": "f5dbe074",
   "metadata": {},
   "source": [
    "Count the Number of \"C\" in the following sequence:"
   ]
  },
  {
   "cell_type": "code",
   "execution_count": 21,
   "id": "7d0ba437",
   "metadata": {},
   "outputs": [],
   "source": [
    "seq = \"GTGTCAGTCCCCATGAATCGATAG\""
   ]
  },
  {
   "cell_type": "code",
   "execution_count": 37,
   "id": "3fb70836",
   "metadata": {},
   "outputs": [
    {
     "data": {
      "text/plain": [
       "6"
      ]
     },
     "execution_count": 37,
     "metadata": {},
     "output_type": "execute_result"
    }
   ],
   "source": [
    "seq.count('C')"
   ]
  },
  {
   "cell_type": "markdown",
   "id": "bd6461ac",
   "metadata": {},
   "source": [
    "Count the number of \"AT\" repeats in the following sequence:"
   ]
  },
  {
   "cell_type": "code",
   "execution_count": 22,
   "id": "1459a871",
   "metadata": {},
   "outputs": [],
   "source": [
    "seq = \"GTGTCAGTCCCCATGAATCGATAG\""
   ]
  },
  {
   "cell_type": "code",
   "execution_count": 38,
   "id": "05f6e0d6",
   "metadata": {},
   "outputs": [
    {
     "data": {
      "text/plain": [
       "3"
      ]
     },
     "execution_count": 38,
     "metadata": {},
     "output_type": "execute_result"
    }
   ],
   "source": [
    "seq.count('AT')"
   ]
  },
  {
   "cell_type": "markdown",
   "id": "cf308f80",
   "metadata": {},
   "source": [
    "Concatenate the following two sequences (i.e. combine them into one sequence)"
   ]
  },
  {
   "cell_type": "code",
   "execution_count": 23,
   "id": "8ee61d8d",
   "metadata": {},
   "outputs": [],
   "source": [
    "seq1 = \"GTGTCAGT\"\n",
    "seq2 = \"TGAATCGATAG\""
   ]
  },
  {
   "cell_type": "code",
   "execution_count": 39,
   "id": "c6f451b1",
   "metadata": {},
   "outputs": [
    {
     "data": {
      "text/plain": [
       "'GTGTCAGTTGAATCGATAG'"
      ]
     },
     "execution_count": 39,
     "metadata": {},
     "output_type": "execute_result"
    }
   ],
   "source": [
    "seq1+seq2"
   ]
  },
  {
   "cell_type": "markdown",
   "id": "018667c7",
   "metadata": {},
   "source": [
    "How long is the following sequence?"
   ]
  },
  {
   "cell_type": "code",
   "execution_count": 24,
   "id": "8f3687a4",
   "metadata": {},
   "outputs": [],
   "source": [
    "seq = \"GTGTCAGTCCCCATGAATCGATAG\""
   ]
  },
  {
   "cell_type": "code",
   "execution_count": 40,
   "id": "734a24d9",
   "metadata": {},
   "outputs": [
    {
     "data": {
      "text/plain": [
       "24"
      ]
     },
     "execution_count": 40,
     "metadata": {},
     "output_type": "execute_result"
    }
   ],
   "source": [
    "len(seq)"
   ]
  },
  {
   "cell_type": "markdown",
   "id": "8f3a0944",
   "metadata": {},
   "source": [
    "What is the 2nd nucleotide in this sequence?"
   ]
  },
  {
   "cell_type": "code",
   "execution_count": 25,
   "id": "94dae42a",
   "metadata": {},
   "outputs": [],
   "source": [
    "seq = \"GTGTCAGTCCCCATGAATCGATAG\""
   ]
  },
  {
   "cell_type": "code",
   "execution_count": 45,
   "id": "7229c503",
   "metadata": {},
   "outputs": [
    {
     "data": {
      "text/plain": [
       "'T'"
      ]
     },
     "execution_count": 45,
     "metadata": {},
     "output_type": "execute_result"
    }
   ],
   "source": [
    "seq[1]"
   ]
  },
  {
   "cell_type": "markdown",
   "id": "07f1ee24",
   "metadata": {},
   "source": [
    "What is the 3rd-from-the-last nucleotide in this sequence?"
   ]
  },
  {
   "cell_type": "code",
   "execution_count": 26,
   "id": "9b8b33f4",
   "metadata": {},
   "outputs": [],
   "source": [
    "seq = \"GTGTCAGTCCCCATGAATCGATAG\""
   ]
  },
  {
   "cell_type": "code",
   "execution_count": 46,
   "id": "f7ecd56d",
   "metadata": {},
   "outputs": [
    {
     "data": {
      "text/plain": [
       "'T'"
      ]
     },
     "execution_count": 46,
     "metadata": {},
     "output_type": "execute_result"
    }
   ],
   "source": [
    "seq[-3]"
   ]
  },
  {
   "cell_type": "markdown",
   "id": "1809716b",
   "metadata": {},
   "source": [
    "Repeat the following sequence 13 times"
   ]
  },
  {
   "cell_type": "code",
   "execution_count": 27,
   "id": "b5256ad0",
   "metadata": {},
   "outputs": [],
   "source": [
    "gc = \"GC\""
   ]
  },
  {
   "cell_type": "code",
   "execution_count": 47,
   "id": "cb872078",
   "metadata": {},
   "outputs": [
    {
     "data": {
      "text/plain": [
       "'GCGCGC'"
      ]
     },
     "execution_count": 47,
     "metadata": {},
     "output_type": "execute_result"
    }
   ],
   "source": [
    "gc * 3"
   ]
  },
  {
   "cell_type": "markdown",
   "id": "70a73ab0",
   "metadata": {},
   "source": [
    "Replace the incorrect letter with an empty string (i.e. delete the letter)  (Hint: an empty string is just a pair of quotes, like `''` or `\"\"`)"
   ]
  },
  {
   "cell_type": "code",
   "execution_count": 28,
   "id": "30521ce8",
   "metadata": {},
   "outputs": [],
   "source": [
    "seq = \"GTGXXGTXCCXCCATGXAATCGXATA\""
   ]
  },
  {
   "cell_type": "code",
   "execution_count": 48,
   "id": "a86f975a",
   "metadata": {},
   "outputs": [
    {
     "data": {
      "text/plain": [
       "'GTGTCAGTCCCCATGAATCGATAG'"
      ]
     },
     "execution_count": 48,
     "metadata": {},
     "output_type": "execute_result"
    }
   ],
   "source": [
    "seq.replace('X', '')"
   ]
  },
  {
   "cell_type": "markdown",
   "id": "3d366ecd",
   "metadata": {},
   "source": [
    "Access only the first six nucleotides in this sequence"
   ]
  },
  {
   "cell_type": "code",
   "execution_count": 49,
   "id": "e5bec5bd",
   "metadata": {},
   "outputs": [],
   "source": [
    "seq = \"GTGTCAGTCCCCATGAATCGATAG\""
   ]
  },
  {
   "cell_type": "code",
   "execution_count": 53,
   "id": "5fe5ec06",
   "metadata": {},
   "outputs": [
    {
     "data": {
      "text/plain": [
       "'GTGTCA'"
      ]
     },
     "execution_count": 53,
     "metadata": {},
     "output_type": "execute_result"
    }
   ],
   "source": [
    "seq[0:6]"
   ]
  },
  {
   "cell_type": "markdown",
   "id": "95be3e3d",
   "metadata": {},
   "source": [
    "Standardize the formatting of this sequence by either upper- or lower-casing the letters"
   ]
  },
  {
   "cell_type": "code",
   "execution_count": 30,
   "id": "7f2ec50e",
   "metadata": {},
   "outputs": [],
   "source": [
    "seq = \"GtCGAaaCCgTaGcTAgc\""
   ]
  },
  {
   "cell_type": "code",
   "execution_count": 54,
   "id": "b063d0ac",
   "metadata": {},
   "outputs": [
    {
     "data": {
      "text/plain": [
       "'GTGTCAGTCCCCATGAATCGATAG'"
      ]
     },
     "execution_count": 54,
     "metadata": {},
     "output_type": "execute_result"
    }
   ],
   "source": [
    "seq.upper()"
   ]
  },
  {
   "cell_type": "markdown",
   "id": "99828597",
   "metadata": {},
   "source": [
    "Split the following string around the empty space into a list of sequences (Hint: the string for a space is quotes with a space between them, like `' '` or `\" \"`)"
   ]
  },
  {
   "cell_type": "code",
   "execution_count": 31,
   "id": "be9c183a",
   "metadata": {},
   "outputs": [],
   "source": [
    "seqs = \"GTTCGAAAG GACCTGATTATAG AACCGATTTA\""
   ]
  },
  {
   "cell_type": "code",
   "execution_count": 55,
   "id": "0fd7281f",
   "metadata": {},
   "outputs": [
    {
     "data": {
      "text/plain": [
       "['GTTCGAAAG', 'GACCTGATTATAG', 'AACCGATTTA']"
      ]
     },
     "execution_count": 55,
     "metadata": {},
     "output_type": "execute_result"
    }
   ],
   "source": [
    "seqs.split(' ')"
   ]
  },
  {
   "cell_type": "markdown",
   "id": "b40bea04",
   "metadata": {},
   "source": [
    "Reverse this sequence"
   ]
  },
  {
   "cell_type": "code",
   "execution_count": 32,
   "id": "b99accd7",
   "metadata": {},
   "outputs": [],
   "source": [
    "seq = \"GTGTCAGTCCCCATGAATCGATAG\""
   ]
  },
  {
   "cell_type": "code",
   "execution_count": 56,
   "id": "7ac7ef9c",
   "metadata": {},
   "outputs": [
    {
     "data": {
      "text/plain": [
       "'GATAGCTAAGTACCCCTGACTGTG'"
      ]
     },
     "execution_count": 56,
     "metadata": {},
     "output_type": "execute_result"
    }
   ],
   "source": [
    "seq[::-1]"
   ]
  },
  {
   "cell_type": "markdown",
   "id": "12eea544",
   "metadata": {},
   "source": [
    "What percentage of strong nucleotides (G and C) are there in this sequence?  (Hint: count the Gs and Cs, then divide by the total number of nucleotides)"
   ]
  },
  {
   "cell_type": "code",
   "execution_count": 33,
   "id": "db3d5894",
   "metadata": {},
   "outputs": [],
   "source": [
    "seq = \"GTGTCAGTCCCCATGAATCGATAG\""
   ]
  },
  {
   "cell_type": "code",
   "execution_count": 57,
   "id": "3983f602",
   "metadata": {},
   "outputs": [
    {
     "data": {
      "text/plain": [
       "50.0"
      ]
     },
     "execution_count": 57,
     "metadata": {},
     "output_type": "execute_result"
    }
   ],
   "source": [
    "(seq.count(\"G\") + seq.count(\"C\")) / len(seq) * 100"
   ]
  },
  {
   "cell_type": "markdown",
   "id": "13d6dbf8",
   "metadata": {},
   "source": [
    "Is this sequence the same forwards and backwards (i.e. a palindrome)?"
   ]
  },
  {
   "cell_type": "code",
   "execution_count": 34,
   "id": "802a3bc3",
   "metadata": {},
   "outputs": [],
   "source": [
    "seq = \"TCGATCTAGCGCGAATATCGGAGAAGAGGCTATAAGCGCGATCTAGCT\""
   ]
  },
  {
   "cell_type": "code",
   "execution_count": 58,
   "id": "cc2589e0",
   "metadata": {},
   "outputs": [
    {
     "data": {
      "text/plain": [
       "False"
      ]
     },
     "execution_count": 58,
     "metadata": {},
     "output_type": "execute_result"
    }
   ],
   "source": [
    "seq == seq[::-1]"
   ]
  }
 ],
 "metadata": {
  "kernelspec": {
   "display_name": "default",
   "language": "python",
   "name": "python3"
  },
  "language_info": {
   "codemirror_mode": {
    "name": "ipython",
    "version": 3
   },
   "file_extension": ".py",
   "mimetype": "text/x-python",
   "name": "python",
   "nbconvert_exporter": "python",
   "pygments_lexer": "ipython3",
   "version": "3.13.3"
  }
 },
 "nbformat": 4,
 "nbformat_minor": 5
}
